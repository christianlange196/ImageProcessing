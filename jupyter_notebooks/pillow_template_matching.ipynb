{
 "cells": [
  {
   "cell_type": "code",
   "execution_count": 2,
   "metadata": {},
   "outputs": [],
   "source": [
    "import numpy as np\n",
    "import matplotlib.pyplot as plt\n",
    "from PIL import Image"
   ]
  },
  {
   "cell_type": "markdown",
   "metadata": {},
   "source": [
    "## Cropping an image with Pillow"
   ]
  },
  {
   "cell_type": "code",
   "execution_count": 11,
   "metadata": {},
   "outputs": [],
   "source": [
    "def gaussian_2d(xy, amplitude, xo, yo, sigma_x, sigma_y, theta, offset):\n",
    "    x, y = xy\n",
    "    xo = float(xo)\n",
    "    yo = float(yo)    \n",
    "    a = (np.cos(theta)**2)/(2*sigma_x**2) + (np.sin(theta)**2)/(2*sigma_y**2)\n",
    "    b = -(np.sin(2*theta))/(4*sigma_x**2) + (np.sin(2*theta))/(4*sigma_y**2)\n",
    "    c = (np.sin(theta)**2)/(2*sigma_x**2) + (np.cos(theta)**2)/(2*sigma_y**2)\n",
    "    g = offset + amplitude * np.exp( - (a*((x-xo)**2) + 2*b*(x-xo)*(y-yo) + c*((y-yo)**2)))\n",
    "    return g.ravel()"
   ]
  },
  {
   "cell_type": "code",
   "execution_count": 10,
   "metadata": {},
   "outputs": [
    {
     "name": "stdout",
     "output_type": "stream",
     "text": [
      "Image size: 480 x 346 pixels\n",
      "New image size: 300 x 300 pixels\n"
     ]
    }
   ],
   "source": [
    "# Step 1: Load the image\n",
    "image = Image.open('../files/dev22-transmission.png')\n",
    "\n",
    "width, height = image.size\n",
    "print(f'Image size: {width} x {height} pixels')\n",
    "\n",
    "# Step 2: Define the crop area\n",
    "# The coordinates are in the format: (left, upper, right, lower)\n",
    "crop_area = (width-300, height-300, width, height)  # Adjust these values for your specific needs\n",
    "\n",
    "# Step 3: Crop the image\n",
    "cropped_image = image.crop(crop_area)\n",
    "\n",
    "new_width, new_height = cropped_image.size\n",
    "print(f'New image size: {new_width} x {new_height} pixels')\n",
    "\n",
    "cropped_image.show()"
   ]
  },
  {
   "cell_type": "code",
   "execution_count": null,
   "metadata": {},
   "outputs": [],
   "source": [
    "\n",
    "\n",
    "# Load image\n",
    "image_path = 'path_to_your_image.jpg'  # Replace with your image path\n",
    "image = Image.open(image_path).convert('L')\n",
    "data = np.array(image)\n",
    "\n",
    "# Create x and y indices\n",
    "x = np.linspace(0, data.shape[1]-1, data.shape[1])\n",
    "y = np.linspace(0, data.shape[0]-1, data.shape[0])\n",
    "x, y = np.meshgrid(x, y)\n",
    "\n",
    "# Initial guess for the parameters\n",
    "initial_guess = (3, data.shape[1]//2, data.shape[0]//2, 20, 20, 0, 10)\n",
    "\n",
    "# Fit the Gaussian\n",
    "popt, _ = curve_fit(gaussian_2d, (x, y), data.ravel(), p0=initial_guess)\n",
    "\n",
    "# Plotting\n",
    "data_fitted = gaussian_2d((x, y), *popt)\n",
    "\n",
    "fig, ax = plt.subplots(1, 1)\n",
    "ax.imshow(data, cmap='gray')\n",
    "ax.contour(x, y, data_fitted.reshape(data.shape[0], data.shape[1]), 8, colors='red')\n",
    "plt.show()\n"
   ]
  }
 ],
 "metadata": {
  "kernelspec": {
   "display_name": "dslabs",
   "language": "python",
   "name": "python3"
  },
  "language_info": {
   "codemirror_mode": {
    "name": "ipython",
    "version": 3
   },
   "file_extension": ".py",
   "mimetype": "text/x-python",
   "name": "python",
   "nbconvert_exporter": "python",
   "pygments_lexer": "ipython3",
   "version": "3.12.1"
  }
 },
 "nbformat": 4,
 "nbformat_minor": 2
}
