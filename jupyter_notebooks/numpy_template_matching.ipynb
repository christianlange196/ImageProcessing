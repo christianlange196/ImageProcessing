{
 "cells": [
  {
   "cell_type": "code",
   "execution_count": null,
   "metadata": {},
   "outputs": [],
   "source": [
    "import numpy as np\n",
    "from PIL import Image\n",
    "import scipy.ndimage\n",
    "\n",
    "# Step 1: Read the image\n",
    "image = Image.open('path_to_your_image.jpg')  # Replace with your image path\n",
    "image_np = np.array(image)\n",
    "\n",
    "# Step 2: Crop the image\n",
    "# Define the crop area as (left, upper, right, lower)\n",
    "crop_area = (100, 100, 300, 300)  # Adjust these values as needed\n",
    "cropped_image_np = image_np[crop_area[1]:crop_area[3], crop_area[0]:crop_area[2]]\n",
    "\n",
    "# Step 3: Resize the image\n",
    "# Calculate the zoom factors for each axis\n",
    "zoom_factors = (100 / cropped_image_np.shape[0], 100 / cropped_image_np.shape[1], 1)\n",
    "resized_image_np = scipy.ndimage.zoom(cropped_image_np, zoom_factors, order=1)\n",
    "\n",
    "# Step 4: Display the image\n",
    "resized_image = Image.fromarray(resized_image_np.astype('uint8'), 'RGB')\n",
    "resized_image.show()\n"
   ]
  }
 ],
 "metadata": {
  "language_info": {
   "name": "python"
  }
 },
 "nbformat": 4,
 "nbformat_minor": 2
}
