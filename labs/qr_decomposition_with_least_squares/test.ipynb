{
 "cells": [
  {
   "cell_type": "markdown",
   "metadata": {},
   "source": [
    "[explanation](https://johnwlambert.github.io/least-squares/)"
   ]
  },
  {
   "cell_type": "code",
   "execution_count": null,
   "metadata": {},
   "outputs": [],
   "source": []
  }
 ],
 "metadata": {
  "language_info": {
   "name": "python"
  }
 },
 "nbformat": 4,
 "nbformat_minor": 2
}
