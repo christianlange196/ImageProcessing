{
 "cells": [
  {
   "cell_type": "markdown",
   "id": "71148f64",
   "metadata": {},
   "source": [
    "# Week 1: Introduction\n",
    "\n",
    "<font size=\"6\"> Laboratory 0 </font> <br>\n",
    "<font size=\"3\"> Last updated July 17, 2023 </font>"
   ]
  },
  {
   "cell_type": "markdown",
   "id": "b0ba2dae",
   "metadata": {},
   "source": [
    "## <span style=\"color:orange;\"> 00. Content </span>"
   ]
  },
  {
   "cell_type": "markdown",
   "id": "d4828e2c",
   "metadata": {},
   "source": [
    "<font size=\"5\"> Mathematics </font>\n",
    "- N/A\n",
    "     \n",
    "<font size=\"5\"> Programming Skills </font>\n",
    "- Importing libraries\n",
    "- Latex\n",
    "    \n",
    "<font size=\"5\"> Embedded Systems </font>\n",
    "- N/A"
   ]
  },
  {
   "cell_type": "markdown",
   "id": "da1c971a",
   "metadata": {},
   "source": [
    "## <span style=\"color:orange;\"> 0. Required Hardware </span>\n",
    "\n",
    "- N/A"
   ]
  },
  {
   "cell_type": "markdown",
   "id": "29abf9a4",
   "metadata": {},
   "source": [
    "## <span style=\"color:orange;\"> 1. Section </span>\n",
    "\n",
    "### Subsection\n",
    "\n",
    "### <span style=\"color:red\"> Exercise 1 </span>\n",
    "\n",
    "<div style=\"border: 2px solid red; padding: 10px;\">\n",
    "  <h3> Answer assignment below </h3>\n",
    "</div>\n"
   ]
  }
 ],
 "metadata": {
  "interpreter": {
   "hash": "5733b5ebf5ecec2b002a59c36710d44decb4334b28aff8074b4cca610e6649ad"
  },
  "kernelspec": {
   "display_name": "Python 3 (ipykernel)",
   "language": "python",
   "name": "python3"
  },
  "language_info": {
   "codemirror_mode": {
    "name": "ipython",
    "version": 3
   },
   "file_extension": ".py",
   "mimetype": "text/x-python",
   "name": "python",
   "nbconvert_exporter": "python",
   "pygments_lexer": "ipython3",
   "version": "3.11.4"
  }
 },
 "nbformat": 4,
 "nbformat_minor": 5
}
