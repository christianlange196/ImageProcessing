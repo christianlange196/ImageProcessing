{
 "cells": [
  {
   "cell_type": "markdown",
   "id": "093d1a05",
   "metadata": {},
   "source": [
    "# Week 2: Review of Python\n",
    "\n",
    "<font size=\"6\"> Laboratory 1 </font> <br>\n",
    "<font size=\"3\"> Last updated July 19, 2023 </font>"
   ]
  },
  {
   "cell_type": "markdown",
   "id": "f2334858",
   "metadata": {},
   "source": [
    "## <span style=\"color:orange;\"> 00. Content </span>"
   ]
  },
  {
   "cell_type": "markdown",
   "id": "200f7032",
   "metadata": {},
   "source": [
    "<font size=\"5\"> Mathematics </font>\n",
    "- Functions\n",
    "     \n",
    "<font size=\"5\"> Programming Skills </font>\n",
    "- Data types and basic operations\n",
    "- Lists and arrays\n",
    "- Functions\n",
    "- Loops and comprehension\n",
    "- Plotting\n",
    "    \n",
    "<font size=\"5\"> Embedded Systems </font>\n",
    "- N/A"
   ]
  },
  {
   "cell_type": "markdown",
   "id": "0a2e154f",
   "metadata": {},
   "source": [
    "## <span style=\"color:orange;\"> 0. Required Hardware </span>"
   ]
  },
  {
   "cell_type": "markdown",
   "id": "4d41f8b3",
   "metadata": {},
   "source": [
    "- N/A"
   ]
  },
  {
   "cell_type": "markdown",
   "id": "697b1c6d",
   "metadata": {},
   "source": [
    "<div style=\"border: 2px solid red; padding: 10px;\">\n",
    "    <h3> Write your name and email below: </h3>\n",
    "</div>\n",
    "\n",
    "**Name:** \n",
    "\n",
    "**Email:** "
   ]
  },
  {
   "cell_type": "markdown",
   "id": "a6a89b31",
   "metadata": {},
   "source": [
    "## <span style=\"color:orange;\"> 1. Datatypes and Operators </span>\n"
   ]
  },
  {
   "cell_type": "markdown",
   "id": "c75ee76e",
   "metadata": {},
   "source": [
    "### Datatypes\n",
    "Let's initialize a variable in a cell."
   ]
  },
  {
   "cell_type": "code",
   "execution_count": null,
   "id": "d9b1097c",
   "metadata": {},
   "outputs": [],
   "source": [
    "a = 1"
   ]
  },
  {
   "cell_type": "markdown",
   "id": "9e2f1ff2",
   "metadata": {},
   "source": [
    "We can still access the variable in the next cell without needing to redefine it. However, if you restart the kernel and only execute the subsequent cell, an error will occur. This is because when the kernel is restarted, it loses knowledge of the value assigned to variable `a`. Consequently, when attempting to print the variable, an error is thrown."
   ]
  },
  {
   "cell_type": "code",
   "execution_count": null,
   "id": "879e3b59",
   "metadata": {},
   "outputs": [],
   "source": [
    "print(a)"
   ]
  },
  {
   "cell_type": "markdown",
   "id": "75a780dd",
   "metadata": {},
   "source": [
    "Throughout this course, we will use the following data types in Python:\n",
    "\n",
    "- Boolean (`bool`): Boolean variables are either `True` or `False` and are equivalent to `1` (true) or `0` (false).\n",
    "- String (`str`): Strings contain a sequence of characters.\n",
    "- Numeric (`int`,`float`):\n",
    "    - The `int` data type holds signed integer values of arbitrary length.\n",
    "    - `float` variables hold floating-point numbers. They are only accurate to 15-16 digits.\n",
    "\n",
    "You can check the datatype of a variable in Python with the `type()` function."
   ]
  },
  {
   "cell_type": "code",
   "execution_count": null,
   "id": "4cdcc9b0",
   "metadata": {},
   "outputs": [],
   "source": [
    "type(a)"
   ]
  },
  {
   "cell_type": "markdown",
   "id": "9d891081",
   "metadata": {},
   "source": [
    "### Operators\n",
    "\n",
    "Here is a list of the operators that may come in handy, along with their descriptions:"
   ]
  },
  {
   "cell_type": "markdown",
   "id": "cf3618ff",
   "metadata": {},
   "source": [
    "| Operation | Description \n",
    "| :---:   |   ----   \n",
    "| `and` | Returns `True` if statements on both sides of the operator are true\n",
    "| `or` | Returns `True` if at least one statement is true\n",
    "| `==` |  Equality; gives `True` or `False`   \n",
    "| `!=` |  Tests if not equal     \n",
    "| `<,<=,>,>=` |  Less than, less than or equal to, greater than, greater than or equal to\n",
    "| `is` |  Used to compare types, NOT values     \n",
    "| `not` |  Negation \n",
    "| `~` |  Complement operator\n",
    "| `+` |  Addition      \n",
    "| `-` |  Subtraction      \n",
    "| `*` |  Multiplication       \n",
    "| `/` |  Division \n",
    "| `**`|  Exponentiation; `a**b` is `a` to the power of `b`\n",
    "| `//` |  Integer division; division without the remainder   \n",
    "| `%` |  Modulo operator; `a%b` returns `a mod b`  \n",
    "| `+=` | `a += 5` is the same as `a = a+5`; replace `+` with any other arithmetic operator (like `-,*,/,//,%`) for the same effect"
   ]
  },
  {
   "cell_type": "markdown",
   "id": "f427184f",
   "metadata": {},
   "source": [
    "## <span style=\"color:orange;\"> 2. Functions and Loops </span>\n",
    "\n",
    "### Functions\n",
    "\n",
    "Defining your own functions will be a key skill in this course. Make sure to give your functions descriptive names as it helps you and others to read and interpret your code easily."
   ]
  },
  {
   "cell_type": "code",
   "execution_count": null,
   "id": "33d91c25",
   "metadata": {},
   "outputs": [],
   "source": [
    "def add_two_nums(num1, num2):\n",
    "    return (num1 + num2)\n",
    "\n",
    "print(add_two_nums(2,3))\n",
    "print(add_two_nums(23,-5))"
   ]
  },
  {
   "cell_type": "markdown",
   "id": "fc5ee307",
   "metadata": {},
   "source": [
    "### Loops\n",
    "Loops allow us to iterate through a list of values. \n",
    "While loops continue executing the loop as long as a condition is true, and for loops iterate through a list.\n",
    "\n",
    "The `range(start, stop, step)` function returns a sequence of values that starts at `start`, ends before `end`, and increments by `step`. By default, `start` is 0, and `step` is 1.\n",
    "\n"
   ]
  },
  {
   "cell_type": "code",
   "execution_count": null,
   "id": "0e1b6e0b",
   "metadata": {},
   "outputs": [],
   "source": [
    "i = 0\n",
    "while i < 10: # start at 0, increment by 1 until 9 (10 not included)\n",
    "    print(i)\n",
    "    i += 1"
   ]
  },
  {
   "cell_type": "code",
   "execution_count": null,
   "id": "242919d2",
   "metadata": {},
   "outputs": [],
   "source": [
    "for i in range(10): # start at 0, increment by 1 until 9 (10 not included)\n",
    "    print(i)"
   ]
  },
  {
   "cell_type": "code",
   "execution_count": null,
   "id": "2543d621",
   "metadata": {},
   "outputs": [],
   "source": [
    "for i in range(2,13,2): # start at 2, increment by 2 until 12 (13 not included)\n",
    "    print(i)"
   ]
  },
  {
   "cell_type": "code",
   "execution_count": null,
   "id": "722b2185",
   "metadata": {},
   "outputs": [],
   "source": [
    "for i in range(20,0,-5): # start at 20, decrement by 5 until 5 (0 not included)\n",
    "    print(i)"
   ]
  },
  {
   "cell_type": "markdown",
   "id": "6b362e49",
   "metadata": {},
   "source": [
    "### <span style=\"color:red\"> Exercise 1</span>\n",
    "\n",
    "When $n$ is a natural number, the factorial of $n$ is \n",
    "\n",
    "$$ n! = n \\cdot (n-1) \\cdot (n-2) \\cdots 2 \\cdot 1 $$\n",
    "\n",
    "We define $0!=1$.\n",
    "\n",
    "Write a function that returns $n!$ if the input $n$ is a natural number; otherwise, it should print an error message. \n",
    "\n",
    "<div style=\"border: 2px solid red; padding: 10px;\">\n",
    "    <h3> Write Answer for Exercise 1 Below </h3>\n",
    "</div>\n"
   ]
  },
  {
   "cell_type": "code",
   "execution_count": null,
   "id": "a45028ec",
   "metadata": {},
   "outputs": [],
   "source": []
  },
  {
   "cell_type": "markdown",
   "id": "301120cd",
   "metadata": {},
   "source": [
    "### <span style=\"color:red\"> Exercise 2</span>\n",
    "\n",
    "Write a function with one parameter, $n$, that prints the first $n$ rows of the pyramid.\n",
    "<pre>\n",
    "   1\n",
    "  2 2\n",
    " 3 3 3\n",
    "4 4 4 4\n",
    "  ...\n",
    "</pre>\n",
    "\n",
    "Call your function when $n=3$ and $n=10$.\n",
    "\n",
    "<div style=\"border: 2px solid red; padding: 10px;\">\n",
    "    <h3> Answer for Exercise 2 below </h3>\n",
    "</div>\n"
   ]
  },
  {
   "cell_type": "code",
   "execution_count": null,
   "id": "b03dcc49",
   "metadata": {},
   "outputs": [],
   "source": []
  },
  {
   "cell_type": "markdown",
   "id": "5d6ce473",
   "metadata": {},
   "source": [
    "## <span style=\"color:orange;\"> 3. Lists and NumPy Arrays </span>\n",
    "\n",
    "### Lists"
   ]
  },
  {
   "cell_type": "markdown",
   "id": "fbe8a8d3",
   "metadata": {},
   "source": [
    "A list is a collection or sequence of values that can be stored and accessed together. It's like a container that holds multiple items, such as numbers, strings, or even other lists. You can think of a list as a way to keep related pieces of data organized. For example, if you have to make a list of the dorms you're willing to stay at on campus, you could write it as a Python list like so:"
   ]
  },
  {
   "cell_type": "code",
   "execution_count": null,
   "id": "5218686d",
   "metadata": {},
   "outputs": [],
   "source": [
    "dorms = [\"Hawkins\", \"Wiley\", \"Frieda Parker\", \"Cary\"] # creates a list of dorms\n",
    "print(dorms) # prints the list of dorms"
   ]
  },
  {
   "cell_type": "markdown",
   "id": "84feda7d",
   "metadata": {},
   "source": [
    "Once you have a list, you can perform various operations on it. You can access individual elements by their position in the list, starting from zero. The position of an element in the list is called its index. For example, to retrieve the first dorm from our `dorms` list, you can use `dorms[0]`. Similarly, `dorms[1]` would give you the second dorm, and so on. Negative numbers can also be used as indices in a list. If you want to access the last dorm in our list, you can use `dorms[-1]`. If you want the second-to-last dorm, you can use `dorms[-2]`."
   ]
  },
  {
   "cell_type": "code",
   "execution_count": null,
   "id": "fa400930",
   "metadata": {},
   "outputs": [],
   "source": [
    "print(dorms[0]) # prints first dorm\n",
    "print(dorms[1]) # prints second dorm\n",
    "print(dorms[3]) # prints fourth dorm\n",
    "print(dorms[-1]) # prints last dorm in list"
   ]
  },
  {
   "cell_type": "markdown",
   "id": "6617e41e",
   "metadata": {},
   "source": [
    "You can also add new elements to the list or remove existing ones. For instance, to add \"Windsor\" to the `dorms` list, you can use the `append()` method like this: `dorms.append(\"Windsor\")`. This will add \"Windsor\" to the end of the list. To remove an element, you can use the `remove()` method and provide the value you want to remove. Additionally, you can obtain the length of a list using the `len()` function."
   ]
  },
  {
   "cell_type": "code",
   "execution_count": null,
   "id": "a0f5dea4",
   "metadata": {},
   "outputs": [],
   "source": [
    "dorms = [\"Hawkins\", \"Wiley\", \"Frieda Parker\", \"Cary\"] # creates a list of dorms\n",
    "\n",
    "print(dorms)\n",
    "print(\"The length of the list is:\", len(dorms)) # prints length of dorms list\n",
    "\n",
    "\n",
    "dorms.append(\"Windsor\") # adds 'Windsor' to the end of the list\n",
    "print(dorms)\n",
    "print(\"The length of the list is:\", len(dorms)) # prints length with 'Windsor' added\n",
    "\n",
    "dorms.remove(\"Wiley\") # removes 'Wiley' from list\n",
    "print(dorms)\n",
    "print(\"The length of the list is:\", len(dorms)) # prints length with 'Wiley' removed"
   ]
  },
  {
   "cell_type": "markdown",
   "id": "f0f4c004",
   "metadata": {},
   "source": [
    "You can iterate through a list using a loop, similar to how we did with the range function."
   ]
  },
  {
   "cell_type": "code",
   "execution_count": null,
   "id": "94413a85",
   "metadata": {},
   "outputs": [],
   "source": [
    "example_list = [1,1,2,3,5]\n",
    "for num in example_list: # iterates through each element without using its index\n",
    "    print(num)"
   ]
  },
  {
   "cell_type": "markdown",
   "id": "561b96d1-ec73-4cbc-8567-59b062e22714",
   "metadata": {},
   "source": [
    "A string is nothing but a list of characters. You can manipulate and use strings in the same manner that you can with lists. For example, you can print every individual character of the string using a loop like so:"
   ]
  },
  {
   "cell_type": "code",
   "execution_count": null,
   "id": "42e810dd-d0a0-4352-93dc-148d1e90b47f",
   "metadata": {},
   "outputs": [],
   "source": [
    "my_dorm = \"Wiley\"\n",
    "for character in my_dorm:\n",
    "    print(character)"
   ]
  },
  {
   "cell_type": "markdown",
   "id": "c1f0609e-82c9-4c86-ad30-4371e9b5e8dd",
   "metadata": {},
   "source": [
    "You can also manipulate and use a string within a list like so:"
   ]
  },
  {
   "cell_type": "code",
   "execution_count": null,
   "id": "410654bd-3412-4925-9180-92ae25aee00d",
   "metadata": {},
   "outputs": [],
   "source": [
    "for dorm in dorms:\n",
    "    for character in dorm:\n",
    "        print(character) # prints every character in every string of the dorms list\n",
    "    print(\"\\n\\n\") # prints two line breaks to seperate each dorm"
   ]
  },
  {
   "cell_type": "code",
   "execution_count": null,
   "id": "7017c46a-eb4e-4e20-a186-e943b3971400",
   "metadata": {},
   "outputs": [],
   "source": [
    "print(dorms[0][0]) # prints the first character of the first dorm in the dorms list\n",
    "print(dorms[-1][-1]) # prints the last character of the last dorm in the dorms list\n",
    "print(dorms[3][-2]) # prints the second to last character of the fourth dorm in the dorms list"
   ]
  },
  {
   "cell_type": "markdown",
   "id": "34dee203",
   "metadata": {},
   "source": [
    "### <span style=\"color:red\"> Exercise 3</span>\n",
    "\n",
    "A palindrome is a sequence that reads the same forward and backward. Write a function that checks if a given list or string is a palindrome. For example, if the input to your function is `\"level\"` or `[2,1,4,5,5,4,1,2]`, then the function should return `True`.\n",
    "\n",
    "<div style=\"border: 2px solid red; padding: 10px;\">\n",
    "    <h3> Write Answer for Exercise 3 Below </h3>\n",
    "</div>"
   ]
  },
  {
   "cell_type": "code",
   "execution_count": null,
   "id": "742bb74b",
   "metadata": {},
   "outputs": [],
   "source": []
  },
  {
   "cell_type": "markdown",
   "id": "435ce37d",
   "metadata": {},
   "source": [
    "### List Comprehension\n",
    "\n",
    "Python offers a convenient feature called list comprehension that enables us to define lists in a single line. It is recommended to use list comprehension when the operation is straightforward and clear. Avoid unnecessarily complicating the code solely for the sake of brevity."
   ]
  },
  {
   "cell_type": "code",
   "execution_count": null,
   "id": "c71a20c7",
   "metadata": {},
   "outputs": [],
   "source": [
    "[i for i in range(10) if i%2==1] # creates a list of odd numbers"
   ]
  },
  {
   "cell_type": "code",
   "execution_count": null,
   "id": "7ca8735b",
   "metadata": {},
   "outputs": [],
   "source": [
    "[num**2+8 for num in example_list] # creates new list using elements of example_list as inputs"
   ]
  },
  {
   "cell_type": "markdown",
   "id": "0ad76b44",
   "metadata": {},
   "source": [
    "### <span style=\"color:red\"> Exercise 4</span>\n",
    "Write a list comprehension that finds the length of each dorm name in the `dorms` list.\n",
    "\n",
    "<div style=\"border: 2px solid red; padding: 10px;\">\n",
    "    <h3> Write Answer for Exercise 4 Below </h3>\n",
    "</div>\n"
   ]
  },
  {
   "cell_type": "code",
   "execution_count": null,
   "id": "a43e96a0",
   "metadata": {},
   "outputs": [],
   "source": []
  },
  {
   "cell_type": "markdown",
   "id": "e131af5c",
   "metadata": {},
   "source": [
    "### Numpy\n",
    "\n",
    "Up until now, we have been utilizing Python lists. However, NumPy arrays share similarities with lists. Once we import the NumPy library, we can initialize an array in the following manner:"
   ]
  },
  {
   "cell_type": "code",
   "execution_count": null,
   "id": "33f03a2a",
   "metadata": {},
   "outputs": [],
   "source": [
    "import numpy as np\n",
    "\n",
    "print(\"This is an example_list:\", example_list)\n",
    "example_array = np.array(example_list) # creates a numpy array from example_list\n",
    "print(\"This is an example_array:\", example_array)\n",
    "\n",
    "print(len(example_array)) #prints the length of the example array"
   ]
  },
  {
   "cell_type": "markdown",
   "id": "b81ed65f",
   "metadata": {},
   "source": [
    "\n",
    "The indexing of arrays is identical to that of lists. Just like with the `range()` function, we can create subarrays by slicing the original array as `example_array[start:stop:step]`. The syntax to slice a list or a string is the same. If not explicitly specified, the default start index is 0, the default end index is the last index, and the default step size is 1. Additionally, a negative index can be used to count from the end of the array."
   ]
  },
  {
   "cell_type": "code",
   "execution_count": null,
   "id": "dbc8b5b2",
   "metadata": {},
   "outputs": [],
   "source": [
    "print(example_array[0])         # first element is at index 0\n",
    "\n",
    "print(example_array[4])         # last element \n",
    "print(example_array[-1])        # also the last element\n",
    "\n",
    "print(example_array[0:3])       # subarray of elements at index 0,1,and 2 (3 not included)\n",
    "print(example_array[:3])        # same subarray as before, 0 is default start\n",
    "print(example_array[0:3:2])     # every other element of the subarray above\n",
    "\n",
    "print(example_array[-2:])       # subarray from second to last element to the end\n",
    "print(example_array[1::3])      # every third element starting with index 1 to the end of the array"
   ]
  },
  {
   "cell_type": "markdown",
   "id": "859ffef3",
   "metadata": {},
   "source": [
    "The same indexing rules apply to each index in a multi-dimensional array. The array defined below consists of 5 rows and 4 columns. At each row and column index, there is an array of length 3."
   ]
  },
  {
   "cell_type": "code",
   "execution_count": null,
   "id": "e8d2e0c6",
   "metadata": {},
   "outputs": [],
   "source": [
    "A = np.arange(60).reshape((5,4,3)) # creates an array A with 5 rows, 4 columns, and 3 depth, containing sequential values from 0 to 59 \n",
    "\n",
    "print(len(A))           # the number of rows of A\n",
    "print(A.shape)          # the shape of A\n",
    "\n",
    "print(A[0,0])           # the length 3 array at [0,0]\n",
    "print(A[0,0,2])         # the last element of length 3 array at [0.0]"
   ]
  },
  {
   "cell_type": "markdown",
   "id": "9f0e2636",
   "metadata": {},
   "source": [
    "It is also easy to perform basic operations on an array without the need for loops. However, be careful when working with lists. For instance, adding two lists `[1,2]+[3,4]` will result in `[1,2,3,4]`. On the other hand, adding two arrays will perform element-wise addition. For example, `np.array([1,2])+np.array([3,4])` yields `np.array([4,6])`. Therefore, it is always important to verify that the outputs match your expectations."
   ]
  },
  {
   "cell_type": "code",
   "execution_count": null,
   "id": "543f8b3a",
   "metadata": {},
   "outputs": [],
   "source": [
    "# creating a new list from example_list\n",
    "new_list = []\n",
    "for num in example_list:\n",
    "    new_list.append(num**2+8)\n",
    "\n",
    "print(new_list)\n",
    "\n",
    "# the same operation on an array\n",
    "print(example_array**2+8)"
   ]
  },
  {
   "cell_type": "markdown",
   "id": "df2baece-e5dd-46ea-9b80-3aa56f3b4469",
   "metadata": {
    "tags": []
   },
   "source": [
    "If you're interested in more information about numpy, you can look at the documentation [here](https://numpy.org/doc/stable/)."
   ]
  },
  {
   "cell_type": "markdown",
   "id": "1d1d109b",
   "metadata": {},
   "source": [
    "### <span style=\"color:red\"> Exercise 5</span>\n",
    "\n",
    "Write a function with two parameters, $m$ and $n$, that returns a 2-dimensional array with $m$ rows and $n$ columns. Set the value in the i-th row and j-th column to be $(i+j)\\mod (\\min(m,n))$.\n",
    "\n",
    "Create a new array from the output of your function by multiplying every odd-indexed row by 3 and every even-indexed column by 2.\n",
    "\n",
    "Print the results when $m=6$ and $n=4$.\n",
    "\n",
    "<div style=\"border: 2px solid red; padding: 10px;\">\n",
    "    <h3> Write Answer for Exercise 5 Below </h3>\n",
    "</div>\n"
   ]
  },
  {
   "cell_type": "code",
   "execution_count": null,
   "id": "ad1acc14",
   "metadata": {},
   "outputs": [],
   "source": []
  },
  {
   "cell_type": "markdown",
   "id": "fdb92cd0",
   "metadata": {},
   "source": [
    "## <span style=\"color:orange;\"> 4. Plotting </span>\n",
    "\n",
    "We will primarily use the matplotlib.pyplot module for our data visualizations. There are many customizations you can make. To see more examples, glance through the [documentation](https://matplotlib.org/stable/plot_types/index.html).\n"
   ]
  },
  {
   "cell_type": "code",
   "execution_count": null,
   "id": "8f7c600e",
   "metadata": {},
   "outputs": [],
   "source": [
    "import matplotlib.pyplot as plt\n",
    "\n",
    "fig, ax = plt.subplots(figsize=(8,4))       # optional to specify figsize\n",
    "\n",
    "x = np.arange(10)                           # we could use np.linspace() to make our graph smoother\n",
    "y = np.sin(x)\n",
    "ax.plot(x, y, '-o', label='label 1') # '-o' makes the curve styled to be a line with points\n",
    "ax.plot(x, y+1, 'r-o', label='label 2') # 'r-o' makes the curve styled to be a red line with points\n",
    "ax.set_title(\"example plot\")\n",
    "ax.set_xlabel(\"x\")\n",
    "ax.set_ylabel(\"y\")\n",
    "ax.legend()\n",
    "plt.show()"
   ]
  },
  {
   "cell_type": "markdown",
   "id": "39968093",
   "metadata": {},
   "source": [
    "### <span style=\"color:red\"> Exercise 6</span>\n",
    "\n"
   ]
  },
  {
   "cell_type": "markdown",
   "id": "a55b63ea-cb49-4126-889f-0cbc36f31721",
   "metadata": {},
   "source": [
    "Run the cell of code below to get an array of random dorms from our `dorms` list."
   ]
  },
  {
   "cell_type": "code",
   "execution_count": 11,
   "id": "9792cdd8",
   "metadata": {},
   "outputs": [],
   "source": [
    "# the line below creates a new array that chooses a random dorm 100 times\n",
    "random_dorms = np.random.choice(dorms, size = 100)"
   ]
  },
  {
   "cell_type": "markdown",
   "id": "9f8d9701",
   "metadata": {},
   "source": [
    "After executing the cell above, create a histogram graphing the frequency of each dorm in the `random_dorms` list.  Here's an example of a [bar chart](https://matplotlib.org/stable/plot_types/basic/bar.html#sphx-glr-plot-types-basic-bar-py).\n",
    "\n",
    "*Hint: Refer to [np.unique](https://numpy.org/doc/stable/reference/generated/numpy.unique.html). Look closely at the optional outputs.*\n",
    "\n",
    "<div style=\"border: 2px solid red; padding: 10px;\">\n",
    "    <h3> Write Answer for Exercise 6 Below </h3>\n",
    "</div>"
   ]
  },
  {
   "cell_type": "code",
   "execution_count": null,
   "id": "ba2b5073",
   "metadata": {},
   "outputs": [],
   "source": []
  },
  {
   "cell_type": "markdown",
   "id": "2beb5b0e",
   "metadata": {},
   "source": [
    "### <span style=\"color:red\"> Exercise 7</span>\n",
    "\n",
    "Plot a smooth graph of $y=\\sin(x)+1$ on the interval $0 \\leq x \\leq 4$. On the same graph, add a bar chart representing the rectangles in a left Riemann sum on 12 subintervals.\n",
    "\n",
    "<div style=\"border: 2px solid red; padding: 10px;\">\n",
    "    <h3> Write Answer for Exercise 7 Below </h3>\n",
    "</div>"
   ]
  },
  {
   "cell_type": "code",
   "execution_count": null,
   "id": "d4047cf7",
   "metadata": {},
   "outputs": [],
   "source": []
  },
  {
   "cell_type": "markdown",
   "id": "214aefcc",
   "metadata": {},
   "source": [
    "## <span style=\"color:green;\"> Reflection </span>\n",
    "\n",
    "1. Are there any concepts or functions in this lab that you didn't know previously that you believe may be very helpful in later labs?\n",
    "2. Which part of the lab did you find the most challenging?\n",
    "3. Which part of the lab was the easiest?\n",
    "<div style=\"border: 2px solid red; padding: 10px;\">\n",
    "    <h3> Write Answers for the Reflection Below </h3>\n",
    "</div>"
   ]
  },
  {
   "cell_type": "markdown",
   "id": "db274edf",
   "metadata": {},
   "source": []
  }
 ],
 "metadata": {
  "interpreter": {
   "hash": "5733b5ebf5ecec2b002a59c36710d44decb4334b28aff8074b4cca610e6649ad"
  },
  "kernelspec": {
   "display_name": "Python 3 (ipykernel)",
   "language": "python",
   "name": "python3"
  },
  "language_info": {
   "codemirror_mode": {
    "name": "ipython",
    "version": 3
   },
   "file_extension": ".py",
   "mimetype": "text/x-python",
   "name": "python",
   "nbconvert_exporter": "python",
   "pygments_lexer": "ipython3",
   "version": "3.11.4"
  }
 },
 "nbformat": 4,
 "nbformat_minor": 5
}
