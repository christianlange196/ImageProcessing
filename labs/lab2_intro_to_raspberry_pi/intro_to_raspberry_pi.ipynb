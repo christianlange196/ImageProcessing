{
 "cells": [
  {
   "cell_type": "markdown",
   "id": "71148f64",
   "metadata": {},
   "source": [
    "# Week 1: Introduction to the Raspberry Pi Pico\n",
    "\n",
    "<font size=\"6\"> Laboratory 0 </font> <br>\n",
    "<font size=\"3\"> Last updated July 17, 2023 </font>"
   ]
  },
  {
   "cell_type": "markdown",
   "id": "b0ba2dae",
   "metadata": {},
   "source": [
    "## <span style=\"color:orange;\"> 00. Content </span>"
   ]
  },
  {
   "cell_type": "markdown",
   "id": "d4828e2c",
   "metadata": {},
   "source": [
    "<font size=\"5\"> Mathematics </font>\n",
    "- N/A\n",
    "     \n",
    "<font size=\"5\"> Programming Skills </font>\n",
    "- Importing libraries\n",
    "- Latex\n",
    "    \n",
    "<font size=\"5\"> Embedded Systems </font>\n",
    "- N/A"
   ]
  },
  {
   "cell_type": "markdown",
   "id": "da1c971a",
   "metadata": {},
   "source": [
    "## <span style=\"color:orange;\"> 0. Required Hardware </span>\n",
    "\n",
    "- Raspberry Pi Pico\n",
    "- Breadboard (obptional)\n",
    "- Usb to Micro-USB cable"
   ]
  },
  {
   "cell_type": "markdown",
   "id": "29abf9a4",
   "metadata": {},
   "source": [
    "## <span style=\"color:orange;\"> 1. Introduction to the Raspberry Pi </span>\n",
    "\n",
    "### Subsection\n",
    "\n",
    "### <span style=\"color:red\"> Exercise 1 </span>\n",
    "\n",
    "<div style=\"border: 2px solid red; padding: 10px;\">\n",
    "  <h3> Answer assignment below </h3>\n",
    "</div>\n"
   ]
  },
  {
   "cell_type": "markdown",
   "id": "bbf33db7",
   "metadata": {},
   "source": [
    "## <span style=\"color:orange;\"> 1. Introduction to the Raspberry Pi Pico </span>"
   ]
  },
  {
   "cell_type": "markdown",
   "id": "314d85a6",
   "metadata": {},
   "source": [
    "### Installing the Raspberry Pi Pico firmware \n",
    "\n",
    "The Raspberry Pi Pico is equipped with 2MB of onboard memory or flash storage, enabling us to store small files of sensor data directly on the Pico. To begin, place the Pico on the breadboard and connect it to your computer using the USB cable. This is how you place the Pico:\n",
    "\n",
    "<img src=\"https://raw.githubusercontent.com/TheDataScienceLabs/DSLab_Probability/main/book/labs/2_frequency/lab_02/additional_files/temp_breadboard.jpg\" \n",
    "     width=\"400\" \n",
    "     height=\"500\" />\n",
    "\n",
    "Open Thonny and follow the directions [here](https://projects.raspberrypi.org/en/projects/getting-started-with-the-pico/3) to install the Micropython firmware on the Pico. The following page at that link has directions for testing to make sure it's working. Once the firmware is installed, you may need to press the `STOP/RESTART` button multiple times until the Micropython shell appears on the bottom tab of Thonny. Once you see the Micropython shell, the Pico is connected to Thonny."
   ]
  },
  {
   "cell_type": "markdown",
   "id": "6d8b1f46",
   "metadata": {},
   "source": [
    "### Collecting Temperature Data\n",
    "\n",
    "The Raspberry Pi Pico has its own internal temperature sensor that returns an integer between 0 and 65535. In this example, our experiment involves measuring the internal temperature of the Pico, and the sample space is represented by the set $\\{0,1,2,\\dots, 65535\\}$. We can easily calculate the temperature in Celsius from the sensor reading $r$ using the formula: \n",
    "\n",
    "$$ T_C = 27 - \\frac{\\frac{3.3r}{65535} - 0.706}{0.001721}$$\n",
    "\n",
    "To begin, please download the `pico_temperature.py` script from [GitHub](https://github.com/TheDataScienceLabs/DSLab_Probability/blob/main/book/labs/2_frequency/lab_02/additional_files/pico_temperature.py) into your Downloads folder. The purpose of this script is to capture a total of 12 temperature readings, with measurements taken at intervals of 0.25 seconds, and save them to a file named `temp.txt` on the Pico.\n",
    "\n",
    "After completing the firmware installation, open Thonny and go to the top bar. Under *\"View\"*, select \"*Files\"* to bring up a side bar that allows you to transfer files onto your Pico. In the side bar, navigate to your *\"Downloads\"* folder. If you're unsure, you can find it at `/home/shay/a/\"your username\"/Downloads`. Right-click the `pico_temperature.py` file and choose *\"Upload to /\"* to copy the file onto your Pico.\n",
    "\n",
    "In Thonny, execute the `pico_temperature.py` script on the Pico by pressing the `RUN` button, it should look like a green play button. Once the script finishes running, transfer the `temp.txt` file stored on the Pico to the folder you are currently working in, and then delete `temp.txt` from the Pico's storage. Feel free to modify the `pico_temperature.py` script as necessary to adjust the number of measurements or the measurement interval."
   ]
  },
  {
   "cell_type": "markdown",
   "id": "842a1576",
   "metadata": {},
   "source": [
    "### <span style=\"color:red\"> Exercise 1 </span>\n",
    "\n",
    "Collect 1,000 temperature measurements from the Pico, ensuring a minimum time interval of 0.25 seconds between each measurement. Display a bar plot to visualize the values stored in the `temp.txt` file. Include clear and descriptive axis labels, as well as an informative title.\n",
    "\n",
    "<div style=\"border: 2px solid red; padding: 10px;\">\n",
    "  <h3> Write Answer for Exercise 1 below </h3>\n",
    "</div>"
   ]
  }
 ],
 "metadata": {
  "interpreter": {
   "hash": "5733b5ebf5ecec2b002a59c36710d44decb4334b28aff8074b4cca610e6649ad"
  },
  "kernelspec": {
   "display_name": "Python 3 (ipykernel)",
   "language": "python",
   "name": "python3"
  },
  "language_info": {
   "codemirror_mode": {
    "name": "ipython",
    "version": 3
   },
   "file_extension": ".py",
   "mimetype": "text/x-python",
   "name": "python",
   "nbconvert_exporter": "python",
   "pygments_lexer": "ipython3",
   "version": "3.11.4"
  }
 },
 "nbformat": 4,
 "nbformat_minor": 5
}
